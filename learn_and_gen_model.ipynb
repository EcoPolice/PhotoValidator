{
  "nbformat": 4,
  "nbformat_minor": 0,
  "metadata": {
    "kernelspec": {
      "display_name": "Python 3",
      "language": "python",
      "name": "python3"
    },
    "language_info": {
      "codemirror_mode": {
        "name": "ipython",
        "version": 3
      },
      "file_extension": ".py",
      "mimetype": "text/x-python",
      "name": "python",
      "nbconvert_exporter": "python",
      "pygments_lexer": "ipython3",
      "version": "3.6.7"
    },
    "colab": {
      "name": "Oil Spill Classification using CNN.ipynb",
      "provenance": [],
      "toc_visible": true
    },
    "accelerator": "TPU"
  },
  "cells": [
    {
      "cell_type": "markdown",
      "metadata": {
        "id": "9BP0uPZEaD0e"
      },
      "source": [
        "## Importing Necessary Libraries"
      ]
    },
    {
      "cell_type": "code",
      "metadata": {
        "colab": {
          "base_uri": "https://localhost:8080/"
        },
        "id": "1YBsinHLaMhQ",
        "outputId": "f687d45f-2250-4abd-c153-cf3bc95201a5"
      },
      "source": [
        "from google.colab import drive\n",
        "drive.mount('/content/drive')"
      ],
      "execution_count": 1,
      "outputs": [
        {
          "output_type": "stream",
          "text": [
            "Drive already mounted at /content/drive; to attempt to forcibly remount, call drive.mount(\"/content/drive\", force_remount=True).\n"
          ],
          "name": "stdout"
        }
      ]
    },
    {
      "cell_type": "code",
      "metadata": {
        "id": "u5MrlG7Jb9kG"
      },
      "source": [
        "import os\n",
        "os.chdir('drive/MyDrive/trash_contest')"
      ],
      "execution_count": 2,
      "outputs": []
    },
    {
      "cell_type": "code",
      "metadata": {
        "colab": {
          "base_uri": "https://localhost:8080/"
        },
        "id": "VqTX2OoTeV0L",
        "outputId": "f164f3e1-63b6-42ab-e1fe-12677a16373f"
      },
      "source": [
        "!ls"
      ],
      "execution_count": 3,
      "outputs": [
        {
          "output_type": "stream",
          "text": [
            "NoSpill     oil.jpg   OilSpill.7z  water3.jpg\n",
            "NoSpill.7z  OilSpill  water2.jpg   water.jpg\n"
          ],
          "name": "stdout"
        }
      ]
    },
    {
      "cell_type": "code",
      "metadata": {
        "id": "WRG7YXYNeVOw"
      },
      "source": [
        "# !7z e OilSpill.7z -o\"OilSpill\""
      ],
      "execution_count": 4,
      "outputs": []
    },
    {
      "cell_type": "code",
      "metadata": {
        "id": "C0opD0mae-rX"
      },
      "source": [
        ""
      ],
      "execution_count": 4,
      "outputs": []
    },
    {
      "cell_type": "code",
      "metadata": {
        "id": "NjJEuVA8e-IJ"
      },
      "source": [
        ""
      ],
      "execution_count": 4,
      "outputs": []
    },
    {
      "cell_type": "code",
      "metadata": {
        "id": "9LL78CR1aD0-"
      },
      "source": [
        "import numpy as np # linear algebra\n",
        "import pandas as pd\n",
        "import matplotlib.pyplot as plt \n",
        "import seaborn as sns\n",
        "import os\n",
        "from PIL import Image\n",
        "from keras.preprocessing.image import img_to_array\n",
        "from keras.preprocessing.image import load_img\n",
        "from keras.utils import np_utils"
      ],
      "execution_count": 129,
      "outputs": []
    },
    {
      "cell_type": "code",
      "metadata": {
        "id": "SBInxtSraD1C"
      },
      "source": [
        "import cv2"
      ],
      "execution_count": 130,
      "outputs": []
    },
    {
      "cell_type": "code",
      "metadata": {
        "colab": {
          "base_uri": "https://localhost:8080/"
        },
        "id": "aKjMyCniaD1H",
        "outputId": "431bc11d-035f-4911-b4de-10d6aa74d5ed"
      },
      "source": [
        "oilspill = os.listdir(\"OilSpill\")\n",
        "print(oilspill[:10]) #the output we get are the .jpg files\n",
        "\n",
        "nospill = os.listdir(\"NoSpill\")\n",
        "print('\\n')\n",
        "print(nospill[:10])"
      ],
      "execution_count": 131,
      "outputs": [
        {
          "output_type": "stream",
          "text": [
            "['Oilspill_083.jpg', 'Oilspill_089.jpg', 'Oilspill_085.jpg', 'Oilspill_088.jpg', 'Oilspill_081.jpg', 'Oilspill_086.jpg', 'Oilspill_082.jpg', 'Oilspill_087.jpg', 'Oilspill_084.jpg', 'Oilspill_091.jpg']\n",
            "\n",
            "\n",
            "['NoSpill_001.jpg', 'NoSpill_002.jpg', 'NoSpill_003.jpg', 'NoSpill_005.jpg', 'NoSpill_007.jpg', 'NoSpill_006.jpg', 'NoSpill_004.jpg', 'NoSpill_008.jpg', 'NoSpill_015.jpg', 'NoSpill_010.jpg']\n"
          ],
          "name": "stdout"
        }
      ]
    },
    {
      "cell_type": "markdown",
      "metadata": {
        "id": "7VBeaOa_aD1N"
      },
      "source": [
        "## Data Preprocessing"
      ]
    },
    {
      "cell_type": "code",
      "metadata": {
        "id": "nzbBBQhxBLjL"
      },
      "source": [
        "x_test"
      ],
      "execution_count": null,
      "outputs": []
    },
    {
      "cell_type": "code",
      "metadata": {
        "id": "ix08aQ5xB5uw"
      },
      "source": [
        "image_data"
      ],
      "execution_count": 44,
      "outputs": []
    },
    {
      "cell_type": "code",
      "metadata": {
        "id": "ajHYBmX81ENL"
      },
      "source": [
        "image_data = None"
      ],
      "execution_count": 123,
      "outputs": []
    },
    {
      "cell_type": "code",
      "metadata": {
        "id": "1PvcVjtpi8PP"
      },
      "source": [
        "def predict_test(filename):\n",
        "    data = []\n",
        "    img_read = plt.imread(filename)\n",
        "    # plt.imshow(img_read)\n",
        "    img_resize = cv2.resize(img_read, (100, 100))\n",
        "    img_array = img_to_array(img_resize)\n",
        "    img_array=img_array/255\n",
        "    data.append(img_array)\n",
        "    image_data = np.array(data)\n",
        "    idx = np.arange(image_data.shape[0])\n",
        "    np.random.shuffle(idx)\n",
        "    image_data = image_data[idx]\n",
        "    return model.predict(image_data)"
      ],
      "execution_count": 248,
      "outputs": []
    },
    {
      "cell_type": "code",
      "metadata": {
        "colab": {
          "base_uri": "https://localhost:8080/"
        },
        "id": "AoHq8dwIjTXc",
        "outputId": "694bb833-0a3c-4398-8b3b-7ce89de33265"
      },
      "source": [
        "print(predict_test('oil.jpg').argmax(axis=1)[0])\n",
        "print(predict_test('water3.jpg').argmax(axis=1)[0])"
      ],
      "execution_count": 251,
      "outputs": [
        {
          "output_type": "stream",
          "text": [
            "1\n",
            "0\n"
          ],
          "name": "stdout"
        }
      ]
    },
    {
      "cell_type": "code",
      "metadata": {
        "id": "SI-GfLzEfr1_"
      },
      "source": [
        ""
      ],
      "execution_count": 158,
      "outputs": []
    },
    {
      "cell_type": "code",
      "metadata": {
        "id": "l4JJG24NaD1P"
      },
      "source": [
        "data = []\n",
        "labels = []\n",
        "for img in oilspill:\n",
        "    try:\n",
        "        img_read = plt.imread(\"OilSpill\" + \"/\" + img)\n",
        "        img_resize = cv2.resize(img_read, (100, 100))\n",
        "        img_array = img_to_array(img_resize)\n",
        "        img_array=img_array/255\n",
        "        data.append(img_array)\n",
        "        labels.append(1)\n",
        "    except:\n",
        "        None\n",
        "        \n",
        "for img in nospill:\n",
        "    try:\n",
        "        img_read = plt.imread(\"NoSpill\" + \"/\" + img)\n",
        "        img_resize = cv2.resize(img_read, (100, 100))\n",
        "        img_array = img_to_array(img_resize)\n",
        "        img_array= img_array/255\n",
        "        data.append(img_array)\n",
        "        labels.append(0)\n",
        "    except:\n",
        "        None"
      ],
      "execution_count": 219,
      "outputs": []
    },
    {
      "cell_type": "code",
      "metadata": {
        "id": "DNslr6bvaD1V"
      },
      "source": [
        "image_data = np.array(data)\n",
        "labels = np.array(labels)\n",
        "idx = np.arange(image_data.shape[0])\n",
        "np.random.shuffle(idx)\n",
        "image_data = image_data[idx]\n",
        "labels = labels[idx]"
      ],
      "execution_count": 220,
      "outputs": []
    },
    {
      "cell_type": "code",
      "metadata": {
        "id": "-Qt6WcQZwD2G"
      },
      "source": [
        ""
      ],
      "execution_count": 220,
      "outputs": []
    },
    {
      "cell_type": "code",
      "metadata": {
        "id": "CmZdlvkWk51m"
      },
      "source": [
        ""
      ],
      "execution_count": 220,
      "outputs": []
    },
    {
      "cell_type": "code",
      "metadata": {
        "id": "ucYtkZx4aD1W"
      },
      "source": [
        "from sklearn.model_selection import train_test_split\n",
        "x_train, x_test, y_train, y_test = train_test_split(image_data, labels, test_size = 0.2, random_state = 42, stratify=labels)"
      ],
      "execution_count": 221,
      "outputs": []
    },
    {
      "cell_type": "code",
      "metadata": {
        "id": "WNm5yWafaD1Y"
      },
      "source": [
        "y_train = np_utils.to_categorical(y_train,  2)\n",
        "y_test = np_utils.to_categorical(y_test,  2)"
      ],
      "execution_count": 222,
      "outputs": []
    },
    {
      "cell_type": "code",
      "metadata": {
        "colab": {
          "base_uri": "https://localhost:8080/"
        },
        "id": "DBdOqSZ7aD1b",
        "outputId": "4dd9f491-8643-41ca-8371-261fa71570ec"
      },
      "source": [
        "print(f'Shape of training image : {x_train.shape}')\n",
        "print(f'Shape of testing image : {x_test.shape}')\n",
        "print(f'Shape of training labels : {y_train.shape}')\n",
        "print(f'Shape of testing labels : {y_test.shape}')"
      ],
      "execution_count": 223,
      "outputs": [
        {
          "output_type": "stream",
          "text": [
            "Shape of training image : (268, 100, 100, 3)\n",
            "Shape of testing image : (68, 100, 100, 3)\n",
            "Shape of training labels : (268, 2)\n",
            "Shape of testing labels : (68, 2)\n"
          ],
          "name": "stdout"
        }
      ]
    },
    {
      "cell_type": "markdown",
      "metadata": {
        "id": "K8PDYQgQaD1d"
      },
      "source": [
        "## Architecture of the CNN model"
      ]
    },
    {
      "cell_type": "code",
      "metadata": {
        "id": "0dcwpUE9aD1m"
      },
      "source": [
        "import keras\n",
        "from keras.layers import Dense, Conv2D\n",
        "from keras.layers import Flatten\n",
        "from keras.layers import MaxPooling2D, GlobalAveragePooling2D\n",
        "from keras.layers import Activation\n",
        "from keras.layers import BatchNormalization\n",
        "from keras.layers import Dropout\n",
        "from keras.models import Sequential\n",
        "from keras import backend as K\n",
        "\n",
        "from keras import optimizers"
      ],
      "execution_count": 227,
      "outputs": []
    },
    {
      "cell_type": "code",
      "metadata": {
        "id": "x_YOmzmQaD1n"
      },
      "source": [
        "inputShape= (100,100,3)\n",
        "model=Sequential()\n",
        "model.add(Conv2D(32, (3,3), activation = 'relu', input_shape = inputShape))\n",
        "model.add(MaxPooling2D(2,2))\n",
        "model.add(BatchNormalization(axis =-1))\n",
        "model.add(Dropout(0.2))\n",
        "\n",
        "model.add(Conv2D(32, (3,3), activation = 'relu'))\n",
        "model.add(MaxPooling2D(2,2))\n",
        "model.add(BatchNormalization(axis = -1))\n",
        "model.add(Dropout(0.2))\n",
        "\n",
        "model.add(Conv2D(32, (3,3), activation = 'relu'))\n",
        "model.add(MaxPooling2D(2,2))\n",
        "model.add(BatchNormalization(axis = -1))\n",
        "model.add(Dropout(0.2))\n",
        "\n",
        "model.add(Flatten())\n",
        "    \n",
        "model.add(Dense(512, activation = 'relu'))\n",
        "model.add(BatchNormalization(axis = -1))\n",
        "model.add(Dropout(0.5))\n",
        "model.add(Dense(2, activation = 'softmax'))"
      ],
      "execution_count": 228,
      "outputs": []
    },
    {
      "cell_type": "code",
      "metadata": {
        "id": "hoc6-JVmaD1p"
      },
      "source": [
        "model.summary()"
      ],
      "execution_count": null,
      "outputs": []
    },
    {
      "cell_type": "code",
      "metadata": {
        "id": "smJPL71EaD1p"
      },
      "source": [
        "#compile the model\n",
        "model.compile(loss = 'binary_crossentropy', optimizer = 'Adam', metrics = ['accuracy'])"
      ],
      "execution_count": 233,
      "outputs": []
    },
    {
      "cell_type": "code",
      "metadata": {
        "id": "npE2qLG3tmZC"
      },
      "source": [
        "from tensorflow.keras.callbacks import ModelCheckpoint\n",
        "model_cnn_save_path = 'best_model_cnn.h5'\n",
        "checkpoint_callback_cnn = ModelCheckpoint(model_cnn_save_path, \n",
        "                                      monitor='val_accuracy',\n",
        "                                      save_best_only=True,\n",
        "                                      verbose=1)"
      ],
      "execution_count": 234,
      "outputs": []
    },
    {
      "cell_type": "code",
      "metadata": {
        "colab": {
          "base_uri": "https://localhost:8080/"
        },
        "id": "-w-vqjZwaD1q",
        "outputId": "4715f8f8-336f-41e9-8061-769fbdd72592"
      },
      "source": [
        "H = model.fit(x_train, y_train, \n",
        "              validation_data=(x_test, y_test), \n",
        "              epochs=30, callbacks=[checkpoint_callback_cnn])"
      ],
      "execution_count": 235,
      "outputs": [
        {
          "output_type": "stream",
          "text": [
            "Epoch 1/30\n",
            "9/9 [==============================] - 5s 444ms/step - loss: 0.1410 - accuracy: 0.9505 - val_loss: 0.5969 - val_accuracy: 0.6029\n",
            "\n",
            "Epoch 00001: val_accuracy improved from -inf to 0.60294, saving model to best_model_cnn.h5\n",
            "Epoch 2/30\n",
            "9/9 [==============================] - 4s 439ms/step - loss: 0.0802 - accuracy: 0.9855 - val_loss: 0.7539 - val_accuracy: 0.5882\n",
            "\n",
            "Epoch 00002: val_accuracy did not improve from 0.60294\n",
            "Epoch 3/30\n",
            "9/9 [==============================] - 4s 423ms/step - loss: 0.0681 - accuracy: 0.9778 - val_loss: 0.5114 - val_accuracy: 0.8971\n",
            "\n",
            "Epoch 00003: val_accuracy improved from 0.60294 to 0.89706, saving model to best_model_cnn.h5\n",
            "Epoch 4/30\n",
            "9/9 [==============================] - 4s 426ms/step - loss: 0.0392 - accuracy: 1.0000 - val_loss: 0.4710 - val_accuracy: 0.8676\n",
            "\n",
            "Epoch 00004: val_accuracy did not improve from 0.89706\n",
            "Epoch 5/30\n",
            "9/9 [==============================] - 4s 428ms/step - loss: 0.0222 - accuracy: 0.9954 - val_loss: 0.4942 - val_accuracy: 0.7059\n",
            "\n",
            "Epoch 00005: val_accuracy did not improve from 0.89706\n",
            "Epoch 6/30\n",
            "9/9 [==============================] - 4s 421ms/step - loss: 0.0220 - accuracy: 0.9930 - val_loss: 0.8809 - val_accuracy: 0.5882\n",
            "\n",
            "Epoch 00006: val_accuracy did not improve from 0.89706\n",
            "Epoch 7/30\n",
            "9/9 [==============================] - 4s 420ms/step - loss: 0.0764 - accuracy: 0.9760 - val_loss: 0.7190 - val_accuracy: 0.4706\n",
            "\n",
            "Epoch 00007: val_accuracy did not improve from 0.89706\n",
            "Epoch 8/30\n",
            "9/9 [==============================] - 4s 419ms/step - loss: 0.0336 - accuracy: 0.9860 - val_loss: 0.4861 - val_accuracy: 0.7500\n",
            "\n",
            "Epoch 00008: val_accuracy did not improve from 0.89706\n",
            "Epoch 9/30\n",
            "9/9 [==============================] - 4s 420ms/step - loss: 0.0716 - accuracy: 0.9780 - val_loss: 0.4582 - val_accuracy: 0.8235\n",
            "\n",
            "Epoch 00009: val_accuracy did not improve from 0.89706\n",
            "Epoch 10/30\n",
            "9/9 [==============================] - 4s 419ms/step - loss: 0.0151 - accuracy: 1.0000 - val_loss: 0.5471 - val_accuracy: 0.8529\n",
            "\n",
            "Epoch 00010: val_accuracy did not improve from 0.89706\n",
            "Epoch 11/30\n",
            "9/9 [==============================] - 4s 421ms/step - loss: 0.0186 - accuracy: 0.9954 - val_loss: 0.4556 - val_accuracy: 0.9412\n",
            "\n",
            "Epoch 00011: val_accuracy improved from 0.89706 to 0.94118, saving model to best_model_cnn.h5\n",
            "Epoch 12/30\n",
            "9/9 [==============================] - 4s 424ms/step - loss: 0.0083 - accuracy: 1.0000 - val_loss: 0.4269 - val_accuracy: 0.8088\n",
            "\n",
            "Epoch 00012: val_accuracy did not improve from 0.94118\n",
            "Epoch 13/30\n",
            "9/9 [==============================] - 4s 422ms/step - loss: 0.0054 - accuracy: 1.0000 - val_loss: 0.5969 - val_accuracy: 0.7059\n",
            "\n",
            "Epoch 00013: val_accuracy did not improve from 0.94118\n",
            "Epoch 14/30\n",
            "9/9 [==============================] - 4s 428ms/step - loss: 0.0071 - accuracy: 0.9973 - val_loss: 0.7437 - val_accuracy: 0.6765\n",
            "\n",
            "Epoch 00014: val_accuracy did not improve from 0.94118\n",
            "Epoch 15/30\n",
            "9/9 [==============================] - 4s 421ms/step - loss: 0.0076 - accuracy: 0.9973 - val_loss: 0.4743 - val_accuracy: 0.7647\n",
            "\n",
            "Epoch 00015: val_accuracy did not improve from 0.94118\n",
            "Epoch 16/30\n",
            "9/9 [==============================] - 4s 420ms/step - loss: 0.0080 - accuracy: 1.0000 - val_loss: 0.4256 - val_accuracy: 0.8088\n",
            "\n",
            "Epoch 00016: val_accuracy did not improve from 0.94118\n",
            "Epoch 17/30\n",
            "9/9 [==============================] - 4s 430ms/step - loss: 0.0143 - accuracy: 0.9965 - val_loss: 0.7044 - val_accuracy: 0.7059\n",
            "\n",
            "Epoch 00017: val_accuracy did not improve from 0.94118\n",
            "Epoch 18/30\n",
            "9/9 [==============================] - 4s 417ms/step - loss: 0.0044 - accuracy: 1.0000 - val_loss: 0.6262 - val_accuracy: 0.7059\n",
            "\n",
            "Epoch 00018: val_accuracy did not improve from 0.94118\n",
            "Epoch 19/30\n",
            "9/9 [==============================] - 4s 417ms/step - loss: 0.0021 - accuracy: 1.0000 - val_loss: 0.3804 - val_accuracy: 0.7941\n",
            "\n",
            "Epoch 00019: val_accuracy did not improve from 0.94118\n",
            "Epoch 20/30\n",
            "9/9 [==============================] - 4s 420ms/step - loss: 0.0042 - accuracy: 1.0000 - val_loss: 0.3173 - val_accuracy: 0.9118\n",
            "\n",
            "Epoch 00020: val_accuracy did not improve from 0.94118\n",
            "Epoch 21/30\n",
            "9/9 [==============================] - 4s 425ms/step - loss: 0.0014 - accuracy: 1.0000 - val_loss: 0.3595 - val_accuracy: 0.8382\n",
            "\n",
            "Epoch 00021: val_accuracy did not improve from 0.94118\n",
            "Epoch 22/30\n",
            "9/9 [==============================] - 4s 428ms/step - loss: 0.0212 - accuracy: 0.9965 - val_loss: 0.3663 - val_accuracy: 0.8382\n",
            "\n",
            "Epoch 00022: val_accuracy did not improve from 0.94118\n",
            "Epoch 23/30\n",
            "9/9 [==============================] - 4s 421ms/step - loss: 0.0019 - accuracy: 1.0000 - val_loss: 0.2863 - val_accuracy: 0.9265\n",
            "\n",
            "Epoch 00023: val_accuracy did not improve from 0.94118\n",
            "Epoch 24/30\n",
            "9/9 [==============================] - 4s 419ms/step - loss: 0.0048 - accuracy: 1.0000 - val_loss: 0.3531 - val_accuracy: 0.8676\n",
            "\n",
            "Epoch 00024: val_accuracy did not improve from 0.94118\n",
            "Epoch 25/30\n",
            "9/9 [==============================] - 4s 422ms/step - loss: 0.0051 - accuracy: 0.9993 - val_loss: 0.3128 - val_accuracy: 0.8824\n",
            "\n",
            "Epoch 00025: val_accuracy did not improve from 0.94118\n",
            "Epoch 26/30\n",
            "9/9 [==============================] - 4s 421ms/step - loss: 0.0495 - accuracy: 0.9865 - val_loss: 1.2679 - val_accuracy: 0.6324\n",
            "\n",
            "Epoch 00026: val_accuracy did not improve from 0.94118\n",
            "Epoch 27/30\n",
            "9/9 [==============================] - 4s 420ms/step - loss: 0.0794 - accuracy: 0.9572 - val_loss: 0.2705 - val_accuracy: 0.9118\n",
            "\n",
            "Epoch 00027: val_accuracy did not improve from 0.94118\n",
            "Epoch 28/30\n",
            "9/9 [==============================] - 4s 430ms/step - loss: 0.0145 - accuracy: 0.9971 - val_loss: 0.7527 - val_accuracy: 0.6471\n",
            "\n",
            "Epoch 00028: val_accuracy did not improve from 0.94118\n",
            "Epoch 29/30\n",
            "9/9 [==============================] - 4s 423ms/step - loss: 0.0329 - accuracy: 0.9861 - val_loss: 0.4341 - val_accuracy: 0.8088\n",
            "\n",
            "Epoch 00029: val_accuracy did not improve from 0.94118\n",
            "Epoch 30/30\n",
            "9/9 [==============================] - 4s 418ms/step - loss: 0.0322 - accuracy: 0.9893 - val_loss: 0.5226 - val_accuracy: 0.8235\n",
            "\n",
            "Epoch 00030: val_accuracy did not improve from 0.94118\n"
          ],
          "name": "stdout"
        }
      ]
    },
    {
      "cell_type": "code",
      "metadata": {
        "colab": {
          "base_uri": "https://localhost:8080/"
        },
        "id": "VEl-962RaD1r",
        "outputId": "c7085358-cb3a-40e2-ff9e-fec579ce6226"
      },
      "source": [
        "print(H.history.keys())"
      ],
      "execution_count": 236,
      "outputs": [
        {
          "output_type": "stream",
          "text": [
            "dict_keys(['loss', 'accuracy', 'val_loss', 'val_accuracy'])\n"
          ],
          "name": "stdout"
        }
      ]
    },
    {
      "cell_type": "code",
      "metadata": {
        "id": "SypjYF5IiA4n"
      },
      "source": [
        ""
      ],
      "execution_count": 236,
      "outputs": []
    },
    {
      "cell_type": "code",
      "metadata": {
        "colab": {
          "base_uri": "https://localhost:8080/",
          "height": 295
        },
        "id": "Zwzm337AaD1s",
        "outputId": "f6c03974-add5-4404-aad7-d55e679383e5"
      },
      "source": [
        "# summarize history for accuracy\n",
        "plt.plot(H.history['accuracy'])\n",
        "plt.plot(H.history['val_accuracy'])\n",
        "plt.title('model accuracy')\n",
        "plt.ylabel('accuracy')\n",
        "plt.xlabel('epoch')\n",
        "plt.legend(['train','test'], loc='upper left')\n",
        "plt.show()"
      ],
      "execution_count": 237,
      "outputs": [
        {
          "output_type": "display_data",
          "data": {
            "image/png": "[encoded data removed]",
            "text/plain": [
              "<Figure size 432x288 with 1 Axes>"
            ]
          },
          "metadata": {
            "tags": [],
            "needs_background": "light"
          }
        }
      ]
    },
    {
      "cell_type": "code",
      "metadata": {
        "colab": {
          "base_uri": "https://localhost:8080/",
          "height": 295
        },
        "id": "AMqUISUeaD1t",
        "outputId": "0c805d59-534d-49d6-b1db-0e98b281579f"
      },
      "source": [
        "# summarize history for loss\n",
        "plt.plot(H.history['loss'])\n",
        "plt.plot(H.history['val_loss'])\n",
        "plt.title('model loss')\n",
        "plt.ylabel('loss')\n",
        "plt.xlabel('epoch')\n",
        "plt.legend(['train','test'], loc='upper right')\n",
        "plt.show()"
      ],
      "execution_count": 238,
      "outputs": [
        {
          "output_type": "display_data",
          "data": {
            "image/png": "[encoded data removed]",
            "text/plain": [
              "<Figure size 432x288 with 1 Axes>"
            ]
          },
          "metadata": {
            "tags": [],
            "needs_background": "light"
          }
        }
      ]
    },
    {
      "cell_type": "code",
      "metadata": {
        "id": "31jZ-1yh0BDF"
      },
      "source": [
        "model.load_weights(model_cnn_save_path)"
      ],
      "execution_count": 243,
      "outputs": []
    },
    {
      "cell_type": "code",
      "metadata": {
        "id": "BcVQKobXaD1v"
      },
      "source": [
        "# make predictions on the test set\n",
        "preds = model.predict(x_test)"
      ],
      "execution_count": 244,
      "outputs": []
    },
    {
      "cell_type": "code",
      "metadata": {
        "colab": {
          "base_uri": "https://localhost:8080/"
        },
        "id": "TM_ZZYxGPXoS",
        "outputId": "e908f4e2-9577-4761-df97-959b77a63a0d"
      },
      "source": [
        "x_test.shape"
      ],
      "execution_count": 245,
      "outputs": [
        {
          "output_type": "execute_result",
          "data": {
            "text/plain": [
              "(68, 100, 100, 3)"
            ]
          },
          "metadata": {
            "tags": []
          },
          "execution_count": 245
        }
      ]
    },
    {
      "cell_type": "code",
      "metadata": {
        "id": "rZRqL27uji2n"
      },
      "source": [
        ""
      ],
      "execution_count": 245,
      "outputs": []
    },
    {
      "cell_type": "code",
      "metadata": {
        "colab": {
          "base_uri": "https://localhost:8080/"
        },
        "id": "0H6rC5SMaD1v",
        "outputId": "91acd5d0-4ec1-4611-a1af-de465a355381"
      },
      "source": [
        "from sklearn.metrics import accuracy_score\n",
        "\n",
        "print(accuracy_score(y_test.argmax(axis=1), preds.argmax(axis=1)))"
      ],
      "execution_count": 246,
      "outputs": [
        {
          "output_type": "stream",
          "text": [
            "0.9411764705882353\n"
          ],
          "name": "stdout"
        }
      ]
    },
    {
      "cell_type": "code",
      "metadata": {
        "colab": {
          "base_uri": "https://localhost:8080/"
        },
        "id": "Nz1HCVqiaD1v",
        "outputId": "0623b702-5abf-47eb-84fa-ee71ef6bc865"
      },
      "source": [
        "from sklearn.metrics import classification_report\n",
        "print(classification_report(y_test.argmax(axis=1), preds.argmax(axis=1)))"
      ],
      "execution_count": 252,
      "outputs": [
        {
          "output_type": "stream",
          "text": [
            "              precision    recall  f1-score   support\n",
            "\n",
            "           0       0.90      0.96      0.93        28\n",
            "           1       0.97      0.93      0.95        40\n",
            "\n",
            "    accuracy                           0.94        68\n",
            "   macro avg       0.94      0.94      0.94        68\n",
            "weighted avg       0.94      0.94      0.94        68\n",
            "\n"
          ],
          "name": "stdout"
        }
      ]
    },
    {
      "cell_type": "code",
      "metadata": {
        "id": "KAuM5A-gaD1x"
      },
      "source": [
        "def plot_confusion_matrix(y_true, y_pred, classes,\n",
        "                          normalize=False,\n",
        "                          title=None,\n",
        "                          cmap=plt.cm.Blues):\n",
        "    from sklearn.metrics import confusion_matrix\n",
        "    from sklearn.utils.multiclass import unique_labels\n",
        "    \"\"\"\n",
        "    This function prints and plots the confusion matrix.\n",
        "    Normalization can be applied by setting `normalize=True`.\n",
        "    \"\"\"\n",
        "    if not title:\n",
        "        if normalize:\n",
        "            title = 'Normalized confusion matrix'\n",
        "        else:\n",
        "            title = 'Confusion matrix, without normalization'\n",
        "\n",
        "    # Compute confusion matrix\n",
        "    cm = confusion_matrix(y_true, y_pred)\n",
        "    # Only use the labels that appear in the data\n",
        "    classes = classes[unique_labels(y_true, y_pred)]\n",
        "    if normalize:\n",
        "        cm = cm.astype('float') / cm.sum(axis=1)[:, np.newaxis]\n",
        "        print(\"Normalized confusion matrix\")\n",
        "    else:\n",
        "        print('Confusion matrix, without normalization')\n",
        "\n",
        "    print(cm)\n",
        "\n",
        "    fig, ax = plt.subplots()\n",
        "    im = ax.imshow(cm, interpolation='nearest', cmap=cmap)\n",
        "    ax.figure.colorbar(im, ax=ax)\n",
        "    # We want to show all ticks...\n",
        "    ax.set(xticks=np.arange(cm.shape[1]),\n",
        "           yticks=np.arange(cm.shape[0]),\n",
        "           # ... and label them with the respective list entries\n",
        "           xticklabels=classes, yticklabels=classes,\n",
        "           title=title,\n",
        "           ylabel='True label',\n",
        "           xlabel='Predicted label')\n",
        "\n",
        "    # Rotate the tick labels and set their alignment.\n",
        "    plt.setp(ax.get_xticklabels(), rotation=45, ha=\"right\",\n",
        "             rotation_mode=\"anchor\")\n",
        "\n",
        "    # Loop over data dimensions and create text annotations.\n",
        "    fmt = '.2f' if normalize else 'd'\n",
        "    thresh = cm.max() / 2.\n",
        "    for i in range(cm.shape[0]):\n",
        "        for j in range(cm.shape[1]):\n",
        "            ax.text(j, i, format(cm[i, j], fmt),\n",
        "                    ha=\"center\", va=\"center\",\n",
        "                    color=\"white\" if cm[i, j] > thresh else \"black\")\n",
        "    fig.tight_layout()\n",
        "    return ax"
      ],
      "execution_count": 253,
      "outputs": []
    },
    {
      "cell_type": "code",
      "metadata": {
        "colab": {
          "base_uri": "https://localhost:8080/",
          "height": 370
        },
        "id": "2K3WD6tJaD1y",
        "outputId": "2c380531-3a15-48e7-dace-1dcdebefd0ba"
      },
      "source": [
        "class_names=np.array((0,1))\n",
        "plot_confusion_matrix(y_test.argmax(axis=1), preds.argmax(axis=1), classes=class_names, title='Confusion Matrix')"
      ],
      "execution_count": 254,
      "outputs": [
        {
          "output_type": "stream",
          "text": [
            "Confusion matrix, without normalization\n",
            "[[27  1]\n",
            " [ 3 37]]\n"
          ],
          "name": "stdout"
        },
        {
          "output_type": "execute_result",
          "data": {
            "text/plain": [
              "<matplotlib.axes._subplots.AxesSubplot at 0x7f58338ba8d0>"
            ]
          },
          "metadata": {
            "tags": []
          },
          "execution_count": 254
        },
        {
          "output_type": "display_data",
          "data": {
            "image/png": "[encoded data removed]",
            "text/plain": [
              "<Figure size 432x288 with 2 Axes>"
            ]
          },
          "metadata": {
            "tags": [],
            "needs_background": "light"
          }
        }
      ]
    },
    {
      "cell_type": "code",
      "metadata": {
        "colab": {
          "base_uri": "https://localhost:8080/"
        },
        "id": "jICHK-nU1sV6",
        "outputId": "1306c410-ca54-4bf1-a2b9-6a8d3a077a8e"
      },
      "source": [
        "!mkdir model"
      ],
      "execution_count": 261,
      "outputs": [
        {
          "output_type": "stream",
          "text": [
            "mkdir: cannot create directory ‘model’: File exists\n"
          ],
          "name": "stdout"
        }
      ]
    },
    {
      "cell_type": "code",
      "metadata": {
        "colab": {
          "base_uri": "https://localhost:8080/"
        },
        "id": "-XLw9GAwaD17",
        "outputId": "4a7b01c3-9125-48a8-d27d-d75f13e6044c"
      },
      "source": [
        "model.save(\"model\")"
      ],
      "execution_count": 262,
      "outputs": [
        {
          "output_type": "stream",
          "text": [
            "INFO:tensorflow:Assets written to: model/assets\n"
          ],
          "name": "stdout"
        }
      ]
    },
    {
      "cell_type": "code",
      "metadata": {
        "id": "884zcwd00gxP"
      },
      "source": [
        ""
      ],
      "execution_count": null,
      "outputs": []
    }
  ]
}